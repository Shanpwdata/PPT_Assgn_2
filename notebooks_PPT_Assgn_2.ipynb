{
  "metadata": {
    "language_info": {
      "codemirror_mode": {
        "name": "python",
        "version": 3
      },
      "file_extension": ".py",
      "mimetype": "text/x-python",
      "name": "python",
      "nbconvert_exporter": "python",
      "pygments_lexer": "ipython3",
      "version": "3.8"
    },
    "kernelspec": {
      "name": "python",
      "display_name": "Python (Pyodide)",
      "language": "python"
    }
  },
  "nbformat_minor": 4,
  "nbformat": 4,
  "cells": [
    {
      "cell_type": "markdown",
      "source": "💡 **Question 1**\nGiven an integer array nums of 2n integers, group these integers into n pairs (a1, b1), (a2, b2),..., (an, bn) such that the sum of min(ai, bi) for all i is maximized. Return the maximized sum.\n\n**Example 1:**\nInput: nums = [1,4,3,2]\nOutput: 4\n\n**Explanation:** All possible pairings (ignoring the ordering of elements) are:\n\n1. (1, 4), (2, 3) -> min(1, 4) + min(2, 3) = 1 + 2 = 3\n2. (1, 3), (2, 4) -> min(1, 3) + min(2, 4) = 1 + 2 = 3\n3. (1, 2), (3, 4) -> min(1, 2) + min(3, 4) = 1 + 3 = 4\nSo the maximum possible sum is 4",
      "metadata": {}
    },
    {
      "cell_type": "code",
      "source": "###Ans_1.\ndef PairSum(nums):\n        nums.sort()\n        ans = 0\n        for i in range(0,len(nums),2):\n            ans = ans + nums[i]\n        return ans",
      "metadata": {
        "trusted": true
      },
      "execution_count": 9,
      "outputs": []
    },
    {
      "cell_type": "code",
      "source": "PairSum([1,4,3,2])",
      "metadata": {
        "trusted": true
      },
      "execution_count": 10,
      "outputs": [
        {
          "execution_count": 10,
          "output_type": "execute_result",
          "data": {
            "text/plain": "4"
          },
          "metadata": {}
        }
      ]
    },
    {
      "cell_type": "markdown",
      "source": "Question 2\nAlice has n candies, where the ith candy is of type candyType[i]. Alice noticed that she started to gain weight, so she visited a doctor. \n\nThe doctor advised Alice to only eat n / 2 of the candies she has (n is always even). Alice likes her candies very much, and she wants to eat the maximum number of different types of candies while still following the doctor's advice. \n\nGiven the integer array candyType of length n, return the maximum number of different types of candies she can eat if she only eats n / 2 of them.\n\nExample 1:\nInput: candyType = [1,1,2,2,3,3]\nOutput: 3\n\nExplanation: Alice can only eat 6 / 2 = 3 candies. Since there are only 3 types, she can eat one of each type.",
      "metadata": {}
    },
    {
      "cell_type": "code",
      "source": "###Ans_2.\ndef distributeCandies(candyType):\n        candyType.sort()\n        n = len(candyType)\n        x = n//2\n        types = 1\n        for i in range(n-1):\n            if candyType[i] != candyType[i+1]:\n                    types +=1\n        if types <= x:\n            return types\n        else :\n            return x",
      "metadata": {
        "trusted": true
      },
      "execution_count": 3,
      "outputs": []
    },
    {
      "cell_type": "code",
      "source": "distributeCandies([1,1,2,2,3,3])",
      "metadata": {
        "trusted": true
      },
      "execution_count": 4,
      "outputs": [
        {
          "execution_count": 4,
          "output_type": "execute_result",
          "data": {
            "text/plain": "3"
          },
          "metadata": {}
        }
      ]
    },
    {
      "cell_type": "markdown",
      "source": "Question 3\nWe define a harmonious array as an array where the difference between its maximum value\nand its minimum value is exactly 1.\n\nGiven an integer array nums, return the length of its longest harmonious subsequence\namong all its possible subsequences.\n\nA subsequence of an array is a sequence that can be derived from the array by deleting some or no elements without changing the order of the remaining elements.\n\nExample 1:\nInput: nums = [1,3,2,2,5,2,3,7]\nOutput: 5\n\nExplanation: The longest harmonious subsequence is [3,2,2,2,3].",
      "metadata": {}
    },
    {
      "cell_type": "code",
      "source": "###Ans_3.\ndef findLHS(nums):\n        letter = {}\n        ans = 0\n        for i in nums:\n            if i not in letter:\n                letter[i] = 1\n            else:\n                letter[i]+=1\n        for i in letter:\n            if i+1 in letter.keys():\n                ans = max(ans, letter[i]+letter[i+1])\n        return ans",
      "metadata": {
        "trusted": true
      },
      "execution_count": 27,
      "outputs": []
    },
    {
      "cell_type": "code",
      "source": "findLHS([1,3,2,2,5,2,3,7])",
      "metadata": {
        "trusted": true
      },
      "execution_count": 28,
      "outputs": [
        {
          "execution_count": 28,
          "output_type": "execute_result",
          "data": {
            "text/plain": "5"
          },
          "metadata": {}
        }
      ]
    },
    {
      "cell_type": "markdown",
      "source": "Question 4\nYou have a long flowerbed in which some of the plots are planted, and some are not.\nHowever, flowers cannot be planted in adjacent plots.\nGiven an integer array flowerbed containing 0's and 1's, where 0 means empty and 1 means not empty, and an integer n, return true if n new flowers can be planted in the flowerbed without violating the no-adjacent-flowers rule and false otherwise.\n\nExample 1:\nInput: flowerbed = [1,0,0,0,1], n = 1\nOutput: true",
      "metadata": {}
    },
    {
      "cell_type": "code",
      "source": "###Ans_4.\ndef canplaceflowers(flowerbed,n):\n    if n == 0:\n        return True\n    for i in range(len(flowerbed)):\n        if flowerbed[i] == 0 and (i == 0 or flowerbed[i-1] == 0) and (i == len(flowerbed)-1 or flowerbed[i+1] == 0):\n            flowerbed[i] = 1\n            n -= 1\n            if n == 0:\n                return True\n    return False",
      "metadata": {
        "trusted": true
      },
      "execution_count": 48,
      "outputs": []
    },
    {
      "cell_type": "code",
      "source": "canplaceflowers([1,0,0,0,1],1)",
      "metadata": {
        "trusted": true
      },
      "execution_count": 49,
      "outputs": [
        {
          "execution_count": 41,
          "output_type": "execute_result",
          "data": {
            "text/plain": "True"
          },
          "metadata": {}
        }
      ]
    },
    {
      "cell_type": "markdown",
      "source": "Question 5\nGiven an integer array nums, find three numbers whose product is maximum and return the maximum product.\n\nExample 1:\nInput: nums = [1,2,3]\nOutput: 6",
      "metadata": {}
    },
    {
      "cell_type": "code",
      "source": "###Ans_5.\ndef maxi(nums):\n        nums.sort()\n        maxi=nums[-1]*nums[-2]*nums[-3]\n        mini=nums[0]*nums[1]*nums[-1]\n        return max(mini,maxi)",
      "metadata": {
        "trusted": true
      },
      "execution_count": 60,
      "outputs": []
    },
    {
      "cell_type": "code",
      "source": "maxi([1,2,3])",
      "metadata": {
        "trusted": true
      },
      "execution_count": 61,
      "outputs": [
        {
          "execution_count": 53,
          "output_type": "execute_result",
          "data": {
            "text/plain": "6"
          },
          "metadata": {}
        }
      ]
    },
    {
      "cell_type": "markdown",
      "source": "Question 6\nGiven an array of integers nums which is sorted in ascending order, and an integer target,\nwrite a function to search target in nums. If target exists, then return its index. Otherwise,\nreturn -1.\n\nYou must write an algorithm with O(log n) runtime complexity.\n\nInput: nums = [-1,0,3,5,9,12], target = 9\nOutput: 4\n\nExplanation: 9 exists in nums and its index is 4",
      "metadata": {}
    },
    {
      "cell_type": "code",
      "source": "###Ans_6.\ndef target_index(nums,target):\n    for i in range(len(nums)):\n        if nums[i] == target:\n            return i\n    else :\n        return -1",
      "metadata": {
        "trusted": true
      },
      "execution_count": 68,
      "outputs": []
    },
    {
      "cell_type": "code",
      "source": "target_index([-1,0,3,5,9,12],9)",
      "metadata": {
        "trusted": true
      },
      "execution_count": 69,
      "outputs": [
        {
          "execution_count": 61,
          "output_type": "execute_result",
          "data": {
            "text/plain": "4"
          },
          "metadata": {}
        }
      ]
    },
    {
      "cell_type": "markdown",
      "source": "Question 7\nAn array is monotonic if it is either monotone increasing or monotone decreasing.\n\nAn array nums is monotone increasing if for all i <= j, nums[i] <= nums[j]. An array nums is\nmonotone decreasing if for all i <= j, nums[i] >= nums[j].\n\nGiven an integer array nums, return true if the given array is monotonic, or false otherwise.\n\nExample 1:\nInput: nums = [1,2,2,3]\nOutput: true",
      "metadata": {}
    },
    {
      "cell_type": "code",
      "source": "###Ans_7.\ndef monotonic(nums):\n    if nums[-1]> nums[0]:\n        for i in range(len(nums)-1):\n            if nums[i+1] < nums[i]:\n                return False\n        return True\n    elif nums[-1]<nums[0]:\n        for i in range(len(nums)-1):\n            if nums[i+1] > nums[i]:\n                return False\n        return True\n    else:\n        for i in range(len(nums)-1):\n            if nums[i+1] != nums[i]:\n                return False\n        return True",
      "metadata": {
        "trusted": true
      },
      "execution_count": 75,
      "outputs": []
    },
    {
      "cell_type": "code",
      "source": "monotonic([1,2,2,3])",
      "metadata": {
        "trusted": true
      },
      "execution_count": 76,
      "outputs": [
        {
          "execution_count": 68,
          "output_type": "execute_result",
          "data": {
            "text/plain": "True"
          },
          "metadata": {}
        }
      ]
    },
    {
      "cell_type": "markdown",
      "source": "Question 8\nYou are given an integer array nums and an integer k.\n\nIn one operation, you can choose any index i where 0 <= i < nums.length and change nums[i] to nums[i] + x where x is an integer from the range [-k, k]. You can apply this operation at most once for each index i.\n\nThe score of nums is the difference between the maximum and minimum elements in nums.\n\nReturn the minimum score of nums after applying the mentioned operation at most once for each index in it.\n\nExample 1:\nInput: nums = [1], k = 0\nOutput: 0\n\nExplanation: The score is max(nums) - min(nums) = 1 - 1 = 0.",
      "metadata": {}
    },
    {
      "cell_type": "code",
      "source": "###Ans_8.\ndef Maxi_mini(nums,k):\n    maxi = max(nums)\n    mini = min(nums)\n    return max(0, (maxi-k)-(mini+k))",
      "metadata": {
        "trusted": true
      },
      "execution_count": 83,
      "outputs": []
    },
    {
      "cell_type": "code",
      "source": "Maxi_mini([1],0)",
      "metadata": {
        "trusted": true
      },
      "execution_count": 84,
      "outputs": [
        {
          "execution_count": 76,
          "output_type": "execute_result",
          "data": {
            "text/plain": "0"
          },
          "metadata": {}
        }
      ]
    },
    {
      "cell_type": "code",
      "source": "",
      "metadata": {},
      "execution_count": null,
      "outputs": []
    }
  ]
}